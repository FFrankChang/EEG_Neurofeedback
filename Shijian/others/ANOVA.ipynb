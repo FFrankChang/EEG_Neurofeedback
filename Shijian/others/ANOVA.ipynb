{
 "cells": [
  {
   "cell_type": "markdown",
   "id": "a931fb0e",
   "metadata": {},
   "source": [
    "#单因素方差分析"
   ]
  },
  {
   "cell_type": "code",
   "execution_count": 2,
   "id": "831d95a0",
   "metadata": {},
   "outputs": [],
   "source": [
    "import pandas as pd\n",
    "from statsmodels.formula.api import ols\n",
    "from statsmodels.stats.anova import anova_lm\n",
    "data= pd.read_excel('data_salary.xlsx',index_col=0)\n",
    "# 先来看下从城市因素开始分析，\n",
    "df_city=data.melt(var_name='城市',value_name='月薪')#使用melt（）函数将读取数据进行结构转换，以满足ols（）函数对数据格式的要求，melt（）函数能将列标签转换为列数据"
   ]
  },
  {
   "cell_type": "code",
   "execution_count": 3,
   "id": "b11868cc",
   "metadata": {},
   "outputs": [
    {
     "data": {
      "text/html": [
       "<div>\n",
       "<style scoped>\n",
       "    .dataframe tbody tr th:only-of-type {\n",
       "        vertical-align: middle;\n",
       "    }\n",
       "\n",
       "    .dataframe tbody tr th {\n",
       "        vertical-align: top;\n",
       "    }\n",
       "\n",
       "    .dataframe thead th {\n",
       "        text-align: right;\n",
       "    }\n",
       "</style>\n",
       "<table border=\"1\" class=\"dataframe\">\n",
       "  <thead>\n",
       "    <tr style=\"text-align: right;\">\n",
       "      <th></th>\n",
       "      <th>城市</th>\n",
       "      <th>月薪</th>\n",
       "    </tr>\n",
       "  </thead>\n",
       "  <tbody>\n",
       "    <tr>\n",
       "      <th>0</th>\n",
       "      <td>河南</td>\n",
       "      <td>5890</td>\n",
       "    </tr>\n",
       "    <tr>\n",
       "      <th>1</th>\n",
       "      <td>河南</td>\n",
       "      <td>5393</td>\n",
       "    </tr>\n",
       "    <tr>\n",
       "      <th>2</th>\n",
       "      <td>河南</td>\n",
       "      <td>6021</td>\n",
       "    </tr>\n",
       "    <tr>\n",
       "      <th>3</th>\n",
       "      <td>河南</td>\n",
       "      <td>5390</td>\n",
       "    </tr>\n",
       "    <tr>\n",
       "      <th>4</th>\n",
       "      <td>河南</td>\n",
       "      <td>5548</td>\n",
       "    </tr>\n",
       "    <tr>\n",
       "      <th>...</th>\n",
       "      <td>...</td>\n",
       "      <td>...</td>\n",
       "    </tr>\n",
       "    <tr>\n",
       "      <th>67</th>\n",
       "      <td>上海</td>\n",
       "      <td>15425</td>\n",
       "    </tr>\n",
       "    <tr>\n",
       "      <th>68</th>\n",
       "      <td>上海</td>\n",
       "      <td>12000</td>\n",
       "    </tr>\n",
       "    <tr>\n",
       "      <th>69</th>\n",
       "      <td>上海</td>\n",
       "      <td>9373</td>\n",
       "    </tr>\n",
       "    <tr>\n",
       "      <th>70</th>\n",
       "      <td>上海</td>\n",
       "      <td>9897</td>\n",
       "    </tr>\n",
       "    <tr>\n",
       "      <th>71</th>\n",
       "      <td>上海</td>\n",
       "      <td>8787</td>\n",
       "    </tr>\n",
       "  </tbody>\n",
       "</table>\n",
       "<p>72 rows × 2 columns</p>\n",
       "</div>"
      ],
      "text/plain": [
       "    城市     月薪\n",
       "0   河南   5890\n",
       "1   河南   5393\n",
       "2   河南   6021\n",
       "3   河南   5390\n",
       "4   河南   5548\n",
       "..  ..    ...\n",
       "67  上海  15425\n",
       "68  上海  12000\n",
       "69  上海   9373\n",
       "70  上海   9897\n",
       "71  上海   8787\n",
       "\n",
       "[72 rows x 2 columns]"
      ]
     },
     "execution_count": 3,
     "metadata": {},
     "output_type": "execute_result"
    }
   ],
   "source": [
    "df_city"
   ]
  },
  {
   "cell_type": "code",
   "execution_count": 5,
   "id": "ada7b557",
   "metadata": {},
   "outputs": [
    {
     "data": {
      "image/png": "[encoded data removed]",
      "text/plain": [
       "<Figure size 640x480 with 1 Axes>"
      ]
     },
     "metadata": {},
     "output_type": "display_data"
    }
   ],
   "source": [
    "import matplotlib.pyplot  as plt\n",
    "plt.rcParams['font.sans-serif'] = ['KaiTi', 'SimHei', 'FangSong']  # 汉字字体,优先使用楷体，如果找不到楷体，则使用黑体\n",
    "plt.rcParams['font.size'] = 12  # 字体大小\n",
    "plt.rcParams['axes.unicode_minus'] = False  # 正常显示负号\n",
    "import pandas as pd\n",
    "import seaborn as sns\n",
    "data= pd.read_excel('data_salary.xlsx',index_col=0)\n",
    "data_melt = data.melt()\n",
    "data_melt.columns = ['城市', '月薪']\n",
    "sns.boxplot(x = '城市', y = '月薪', data = data_melt)\n",
    "plt.show()"
   ]
  },
  {
   "cell_type": "code",
   "execution_count": 6,
   "id": "d9f210d7",
   "metadata": {},
   "outputs": [
    {
     "name": "stdout",
     "output_type": "stream",
     "text": [
      "            df        sum_sq       mean_sq          F        PR(>F)\n",
      "C(城市)      5.0  6.208263e+08  1.241653e+08  31.090471  4.042115e-16\n",
      "Residual  66.0  2.635826e+08  3.993676e+06        NaN           NaN\n",
      "    Multiple Comparison of Means - Tukey HSD, FWER=0.05     \n",
      "============================================================\n",
      "group1 group2  meandiff  p-adj    lower      upper    reject\n",
      "------------------------------------------------------------\n",
      "    上海     北京     1098.5 0.7581 -1296.0995  3493.0995  False\n",
      "    上海     山东 -4532.3333    0.0 -6926.9328 -2137.7338   True\n",
      "    上海     山西 -6045.5833    0.0 -8440.1828 -3650.9838   True\n",
      "    上海     河南 -5844.4167    0.0 -8239.0162 -3449.8172   True\n",
      "    上海     陕西 -5802.1667    0.0 -8196.7662 -3407.5672   True\n",
      "    北京     山东 -5630.8333    0.0 -8025.4328 -3236.2338   True\n",
      "    北京     山西 -7144.0833    0.0 -9538.6828 -4749.4838   True\n",
      "    北京     河南 -6942.9167    0.0 -9337.5162 -4548.3172   True\n",
      "    北京     陕西 -6900.6667    0.0 -9295.2662 -4506.0672   True\n",
      "    山东     山西   -1513.25 0.4388 -3907.8495   881.3495  False\n",
      "    山东     河南 -1312.0833 0.5962 -3706.6828  1082.5162  False\n",
      "    山东     陕西 -1269.8333 0.6295 -3664.4328  1124.7662  False\n",
      "    山西     河南   201.1667 0.9999 -2193.4328  2595.7662  False\n",
      "    山西     陕西   243.4167 0.9997 -2151.1828  2638.0162  False\n",
      "    河南     陕西      42.25    1.0 -2352.3495  2436.8495  False\n",
      "------------------------------------------------------------\n"
     ]
    }
   ],
   "source": [
    "#进行方差分析\n",
    "import pandas as pd\n",
    "from statsmodels.stats.multicomp import pairwise_tukeyhsd\n",
    "from statsmodels.formula.api import ols\n",
    "from statsmodels.stats.anova import anova_lm\n",
    "data= pd.read_excel('data_salary.xlsx',index_col=0)\n",
    "# 先来看下从城市因素开始分析，\n",
    "df_city=data.melt(var_name='城市',value_name='月薪')#使用melt（）函数将读取数据进行结构转换，以满足ols（）函数对数据格式的要求，melt（）函数能将列标签转换为列数据\n",
    "model_city=ols('月薪~C(城市)',df_city).fit()# ols（）创建一线性回归分析模型\n",
    "anova_table=anova_lm(model_city)# anova_lm（）函数创建模型生成方差分析表\n",
    "print(anova_table)\n",
    "# 进行事后比较分析\n",
    "print(pairwise_tukeyhsd(df_city['月薪'], df_city['城市']))"
   ]
  },
  {
   "cell_type": "code",
   "execution_count": null,
   "id": "9cdd4435",
   "metadata": {},
   "outputs": [],
   "source": [
    "# 上半部分中df为自由度\n",
    "# sum_sq为误差平方和\n",
    "# mean_sq为平均平方\n",
    "# F代表统计量F值\n",
    "# PR(>F)代表显著性水平P值\n",
    "# 下半部分为多重比较，进行事后分析\n",
    "# group1以及group2表示的是因子的不同水平，然后分析他们两个组是否有显著性差异\n",
    "# 最后面的reject表示是否拒绝原假设，True表示的是拒绝原假设，说明两组均值有显著性差异"
   ]
  },
  {
   "cell_type": "code",
   "execution_count": 13,
   "id": "12203c93",
   "metadata": {},
   "outputs": [
    {
     "ename": "NameError",
     "evalue": "name 'xarray' is not defined",
     "output_type": "error",
     "traceback": [
      "\u001b[0;31m---------------------------------------------------------------------------\u001b[0m",
      "\u001b[0;31mNameError\u001b[0m                                 Traceback (most recent call last)",
      "Cell \u001b[0;32mIn[13], line 2\u001b[0m\n\u001b[1;32m      1\u001b[0m path1 \u001b[38;5;241m=\u001b[39m\u001b[38;5;124mr\u001b[39m\u001b[38;5;124m\"\u001b[39m\u001b[38;5;124mremapbiled_tas_yearly_EC-Earth3_ssp126_r1i1p1f1_gr_201501-210012.nc\u001b[39m\u001b[38;5;124m\"\u001b[39m\n\u001b[0;32m----> 2\u001b[0m cmip6 \u001b[38;5;241m=\u001b[39m \u001b[43mxarray\u001b[49m\u001b[38;5;241m.\u001b[39mopen_dataset(path1)\u001b[38;5;241m.\u001b[39mtas\u001b[38;5;241m.\u001b[39mloc[\u001b[38;5;124m\"\u001b[39m\u001b[38;5;124m2005\u001b[39m\u001b[38;5;124m\"\u001b[39m:\u001b[38;5;124m\"\u001b[39m\u001b[38;5;124m2015\u001b[39m\u001b[38;5;124m\"\u001b[39m,:,:]\n\u001b[1;32m      3\u001b[0m fig \u001b[38;5;241m=\u001b[39m plt\u001b[38;5;241m.\u001b[39mfigure(figsize\u001b[38;5;241m=\u001b[39m(\u001b[38;5;241m3\u001b[39m,\u001b[38;5;241m3\u001b[39m),dpi\u001b[38;5;241m=\u001b[39m\u001b[38;5;241m60\u001b[39m)\u001b[38;5;66;03m#画布\u001b[39;00m\n\u001b[1;32m      4\u001b[0m ax \u001b[38;5;241m=\u001b[39m fig\u001b[38;5;241m.\u001b[39madd_axes([\u001b[38;5;241m1\u001b[39m,\u001b[38;5;241m1\u001b[39m,\u001b[38;5;241m1.5\u001b[39m,\u001b[38;5;241m1.5\u001b[39m])\u001b[38;5;66;03m#画层\u001b[39;00m\n",
      "\u001b[0;31mNameError\u001b[0m: name 'xarray' is not defined"
     ]
    }
   ],
   "source": [
    "path1 =r\"remapbiled_tas_yearly_EC-Earth3_ssp126_r1i1p1f1_gr_201501-210012.nc\"\n",
    "cmip6 = xarray.open_dataset(path1).tas.loc[\"2005\":\"2015\",:,:]\n",
    "fig = plt.figure(figsize=(3,3),dpi=60)#画布\n",
    "ax = fig.add_axes([1,1,1.5,1.5])#画层\n",
    "sns.distplot(cmip6,#数据                 \n",
    "           color='red',#概率密度线的颜色\n",
    "           ax=ax,\n",
    "           label=\"tas-temp\",#蓝色线条的名称\n",
    "           )"
   ]
  }
 ],
 "metadata": {
  "kernelspec": {
   "display_name": "Python 3 (ipykernel)",
   "language": "python",
   "name": "python3"
  },
  "language_info": {
   "codemirror_mode": {
    "name": "ipython",
    "version": 3
   },
   "file_extension": ".py",
   "mimetype": "text/x-python",
   "name": "python",
   "nbconvert_exporter": "python",
   "pygments_lexer": "ipython3",
   "version": "3.9.13"
  }
 },
 "nbformat": 4,
 "nbformat_minor": 5
}
